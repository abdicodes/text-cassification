{
 "cells": [
  {
   "cell_type": "markdown",
   "id": "4a079339",
   "metadata": {},
   "source": [
    "# Natural Language processing: Hate speech classification"
   ]
  },
  {
   "cell_type": "code",
   "execution_count": 1,
   "id": "e3c11fbe",
   "metadata": {},
   "outputs": [],
   "source": [
    "import pandas as pd\n",
    "import string\n",
    "import re\n",
    "pd.options.display.max_colwidth = 300 # to display full tweets as each tweet is of 280 chars"
   ]
  },
  {
   "cell_type": "code",
   "execution_count": 2,
   "id": "322dad4f",
   "metadata": {},
   "outputs": [
    {
     "data": {
      "text/html": [
       "<div>\n",
       "<style scoped>\n",
       "    .dataframe tbody tr th:only-of-type {\n",
       "        vertical-align: middle;\n",
       "    }\n",
       "\n",
       "    .dataframe tbody tr th {\n",
       "        vertical-align: top;\n",
       "    }\n",
       "\n",
       "    .dataframe thead th {\n",
       "        text-align: right;\n",
       "    }\n",
       "</style>\n",
       "<table border=\"1\" class=\"dataframe\">\n",
       "  <thead>\n",
       "    <tr style=\"text-align: right;\">\n",
       "      <th></th>\n",
       "      <th>tweet_text</th>\n",
       "      <th>cyberbullying_type</th>\n",
       "    </tr>\n",
       "  </thead>\n",
       "  <tbody>\n",
       "    <tr>\n",
       "      <th>0</th>\n",
       "      <td>In other words #katandandre, your food was crapilicious! #mkr</td>\n",
       "      <td>not_cyberbullying</td>\n",
       "    </tr>\n",
       "    <tr>\n",
       "      <th>1</th>\n",
       "      <td>Why is #aussietv so white? #MKR #theblock #ImACelebrityAU #today #sunrise #studio10 #Neighbours #WonderlandTen #etc</td>\n",
       "      <td>not_cyberbullying</td>\n",
       "    </tr>\n",
       "    <tr>\n",
       "      <th>2</th>\n",
       "      <td>@XochitlSuckkks a classy whore? Or more red velvet cupcakes?</td>\n",
       "      <td>not_cyberbullying</td>\n",
       "    </tr>\n",
       "    <tr>\n",
       "      <th>3</th>\n",
       "      <td>@Jason_Gio meh. :P  thanks for the heads up, but not too concerned about another angry dude on twitter.</td>\n",
       "      <td>not_cyberbullying</td>\n",
       "    </tr>\n",
       "    <tr>\n",
       "      <th>4</th>\n",
       "      <td>@RudhoeEnglish This is an ISIS account pretending to be a Kurdish account.  Like Islam, it is all lies.</td>\n",
       "      <td>not_cyberbullying</td>\n",
       "    </tr>\n",
       "  </tbody>\n",
       "</table>\n",
       "</div>"
      ],
      "text/plain": [
       "                                                                                                            tweet_text  \\\n",
       "0                                                        In other words #katandandre, your food was crapilicious! #mkr   \n",
       "1  Why is #aussietv so white? #MKR #theblock #ImACelebrityAU #today #sunrise #studio10 #Neighbours #WonderlandTen #etc   \n",
       "2                                                         @XochitlSuckkks a classy whore? Or more red velvet cupcakes?   \n",
       "3              @Jason_Gio meh. :P  thanks for the heads up, but not too concerned about another angry dude on twitter.   \n",
       "4              @RudhoeEnglish This is an ISIS account pretending to be a Kurdish account.  Like Islam, it is all lies.   \n",
       "\n",
       "  cyberbullying_type  \n",
       "0  not_cyberbullying  \n",
       "1  not_cyberbullying  \n",
       "2  not_cyberbullying  \n",
       "3  not_cyberbullying  \n",
       "4  not_cyberbullying  "
      ]
     },
     "execution_count": 2,
     "metadata": {},
     "output_type": "execute_result"
    }
   ],
   "source": [
    "df = pd.read_csv('cyberbullying_tweets.csv')\n",
    "df.head()"
   ]
  },
  {
   "cell_type": "code",
   "execution_count": 3,
   "id": "6e3636a7",
   "metadata": {},
   "outputs": [
    {
     "data": {
      "text/plain": [
       "10                                                                                                          @Jord_Is_Dead http://t.co/UsQInYW5Gn\n",
       "11                                                                                              The Bully flushes on KD http://twitvid.com/A2TNP\n",
       "12                                                                                                                                   Ughhhh #MKR\n",
       "13    RT @Kurdsnews: Turkish state has killed 241 children in last 11 years http://t.co/JlvkE1epws  #news  ##GoogleÇeviriciTopluluğuKürtçeyideE…\n",
       "14                         Love that the best response to the hotcakes they managed to film was a non-committal \"meh\" from some adolescent. #MKR\n",
       "15                                                               @yasmimcaci @Bferrarii PAREM DE FAZER BULLYING COMIGO =( UHAHUAH BANDO DE PRETO\n",
       "16                                                                       @sarinhacoral @Victor_Maggi tadinhu de mim , sofrendo bulling viu MIMI'\n",
       "17                                                        @0xabad1dea @kelseytheodore2 twitter is basically the angry letters of our generation.\n",
       "18      Best pick up line? Hi, you're cute... ?: I love how people call James Potter is a bully. - mypatronusisyou: http://tumblr.com/xol3xl14zy\n",
       "19                                                                    Now I gotta walk to classss?! I officially hate the stupid bus system! -_-\n",
       "Name: tweet_text, dtype: object"
      ]
     },
     "execution_count": 3,
     "metadata": {},
     "output_type": "execute_result"
    }
   ],
   "source": [
    "df.iloc[10:20]['tweet_text']"
   ]
  },
  {
   "cell_type": "code",
   "execution_count": 4,
   "id": "6f7d8112",
   "metadata": {},
   "outputs": [],
   "source": [
    "def text_cleaner(tweet):\n",
    "    tweet = re.sub(r\"(@[A-Za-z0–9_]+)|[^\\w\\s]|#|http\\S+\", \"\", tweet) # removes twitter user, links, nonwords\n",
    "    tweet = re.sub(r\"\\W|\\d\", \" \", tweet) \n",
    "    tweet = re.sub(r\"[ ]{2,}\", \" \", tweet)  # removes occurances of more than one white space between words\n",
    "    return tweet\n",
    "    "
   ]
  },
  {
   "cell_type": "code",
   "execution_count": 5,
   "id": "ec8b93e1",
   "metadata": {},
   "outputs": [],
   "source": [
    "df[\"tweet_text\"]=df.tweet_text.apply(lambda x:text_cleaner(x))"
   ]
  },
  {
   "cell_type": "code",
   "execution_count": 6,
   "id": "76c7ae34",
   "metadata": {},
   "outputs": [
    {
     "data": {
      "text/plain": [
       "10                                                                                                                    \n",
       "11                                                                                            The Bully flushes on KD \n",
       "12                                                                                                          Ughhhh MKR\n",
       "13                          RT Turkish state has killed children in last years news GoogleÇeviriciTopluluğuKürtçeyideE\n",
       "14    Love that the best response to the hotcakes they managed to film was a noncommittal meh from some adolescent MKR\n",
       "15                                                               PAREM DE FAZER BULLYING COMIGO UHAHUAH BANDO DE PRETO\n",
       "16                                                                            tadinhu de mim sofrendo bulling viu MIMI\n",
       "17                                                        dea twitter is basically the angry letters of our generation\n",
       "18                     Best pick up line Hi youre cute I love how people call James Potter is a bully mypatronusisyou \n",
       "19                                               Now I gotta walk to classss I officially hate the stupid bus system _\n",
       "Name: tweet_text, dtype: object"
      ]
     },
     "execution_count": 6,
     "metadata": {},
     "output_type": "execute_result"
    }
   ],
   "source": [
    "df.iloc[10:20]['tweet_text']"
   ]
  },
  {
   "cell_type": "markdown",
   "id": "3da38c55",
   "metadata": {},
   "source": [
    "We can still see that there are some non ASCII characters e.g., \"GoogleÇeviriciTopluluğuKürtçeyid\" we can apply \n",
    "a lamada function that eliminates characters that are not in standard ASCII"
   ]
  },
  {
   "cell_type": "code",
   "execution_count": 7,
   "id": "1410668e",
   "metadata": {},
   "outputs": [
    {
     "data": {
      "text/plain": [
       "'0123456789abcdefghijklmnopqrstuvwxyzABCDEFGHIJKLMNOPQRSTUVWXYZ!\"#$%&\\'()*+,-./:;<=>?@[\\\\]^_`{|}~ \\t\\n\\r\\x0b\\x0c'"
      ]
     },
     "execution_count": 7,
     "metadata": {},
     "output_type": "execute_result"
    }
   ],
   "source": [
    "string.printable"
   ]
  },
  {
   "cell_type": "markdown",
   "id": "194cd61b",
   "metadata": {},
   "source": [
    "We can apply a lambada function that excludes any character that is not in the above list \n",
    "at the same time we can convert all letters to small letters by passing by applying .lower() when passing\n",
    "    the tween to non"
   ]
  },
  {
   "cell_type": "code",
   "execution_count": 8,
   "id": "971d6ed6",
   "metadata": {},
   "outputs": [],
   "source": [
    "def non_ascii_filter(tweet):\n",
    "    return ''.join(filter(lambda x: x in set(string.printable), tweet))\n",
    "df[\"tweet_text\"]=df.tweet_text.apply(lambda x: non_ascii_filter(x.lower()))\n"
   ]
  },
  {
   "cell_type": "code",
   "execution_count": 9,
   "id": "46b1d0db",
   "metadata": {},
   "outputs": [
    {
     "data": {
      "text/plain": [
       "10                                                                                                                    \n",
       "11                                                                                            the bully flushes on kd \n",
       "12                                                                                                          ughhhh mkr\n",
       "13                              rt turkish state has killed children in last years news googleeviricitopluluukrteyidee\n",
       "14    love that the best response to the hotcakes they managed to film was a noncommittal meh from some adolescent mkr\n",
       "15                                                               parem de fazer bullying comigo uhahuah bando de preto\n",
       "16                                                                            tadinhu de mim sofrendo bulling viu mimi\n",
       "17                                                        dea twitter is basically the angry letters of our generation\n",
       "18                     best pick up line hi youre cute i love how people call james potter is a bully mypatronusisyou \n",
       "19                                               now i gotta walk to classss i officially hate the stupid bus system _\n",
       "Name: tweet_text, dtype: object"
      ]
     },
     "execution_count": 9,
     "metadata": {},
     "output_type": "execute_result"
    }
   ],
   "source": [
    "df.iloc[10:20]['tweet_text']"
   ]
  },
  {
   "cell_type": "code",
   "execution_count": null,
   "id": "8fbb1a84",
   "metadata": {},
   "outputs": [],
   "source": [
    "df.describe()"
   ]
  },
  {
   "cell_type": "code",
   "execution_count": null,
   "id": "945658c5",
   "metadata": {},
   "outputs": [],
   "source": []
  }
 ],
 "metadata": {
  "kernelspec": {
   "display_name": "Python 3",
   "language": "python",
   "name": "python3"
  },
  "language_info": {
   "codemirror_mode": {
    "name": "ipython",
    "version": 3
   },
   "file_extension": ".py",
   "mimetype": "text/x-python",
   "name": "python",
   "nbconvert_exporter": "python",
   "pygments_lexer": "ipython3",
   "version": "3.8.8"
  }
 },
 "nbformat": 4,
 "nbformat_minor": 5
}
