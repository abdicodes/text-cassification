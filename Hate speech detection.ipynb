{
 "cells": [
  {
   "cell_type": "markdown",
   "id": "3d7fb5ac",
   "metadata": {},
   "source": [
    "# Natural Language processing: Hate speech classification"
   ]
  },
  {
   "cell_type": "markdown",
   "id": "cf969e68",
   "metadata": {},
   "source": [
    "### Introduction\n",
    "Hate speech is abusive or threatening speech that offends, insults, or threatens a group based on race, religion, ethnic origin, sexual orientation, sex, age or mental or physical disability. Hate speech can lead to hate crimes as well as harm feelings and cause harm to individuals’ self-esteem and self-worth. It can also lead to violence against groups because it creates an environment where people are encouraged to act violently towards others. In recent decades usage of internet has increased drastically where in early 90s, less than 3 millions of world population were using the internet where in recent years the number has grown by 1000 times to reach 3.4 billions in 2016 [1]. With the emerge of social media popularity and usage in the last 15 years when platforms such as Facebook, Instagram, Snapchat, Twitter and Tik-Tok, online hate speech, cynicism and cyberbullying has increased against different groups of people [2]. It has been estimated Facebook has around 2.85 billion active users monthly in 2021 [3]. With this tremendous number of users, it’s impossible to track all users’ activities for suspicious activities or follow up on online abuse or harassments reported by victim users not to mention language barrier. It’s impossible to have sufficient human resources to tackle these issues. Luckily machine learning and deep learning has become widely used in natural language processing and classification. And we have seen many applications in the recent years, from chatbots to text classifications and many others. Companies like Facebook who are in the social media domain have adopted ways to flag abusive language automatically without the need of human intervention and developed machine learning models and frameworks such as “Deep Entity Classification (DEC)”. [4]. "
   ]
  },
  {
   "cell_type": "markdown",
   "id": "a9469ec0",
   "metadata": {},
   "source": [
    "Description of the selected dataset:\n",
    "\n",
    "The dataset I have acquired consists of 46,000 tweets collected as part of the literature:\n",
    "\n",
    "J. Wang, K. Fu and C. -T. Lu, \"SOSNet: A Graph Convolutional Network Approach to Fine-Grained Cyberbullying Detection,\" 2020 IEEE International Conference on Big Data (Big Data), 2020, pp. 1699-1708, doi: 10.1109/BigData50022.2020.9378065.[5]\n",
    "\n",
    "The dataset is a collection of tweets that were taken between 10-13 December 2020. These tweets were then labeled as according to the cyberbullying form in the following categories:\n",
    "- Age\n",
    "- Ethnicity\n",
    "- Gender\n",
    "- Religion\n",
    "- Other type of cyberbullying\n",
    "- Not cyberbullying \n",
    "\n",
    "Each category contains approximately 8000 tweets. These tweets are short in nature and contain no more than 280 words as per twitters maximum limit on tweets.\n",
    "The dataset has been annotated manually to the appropriate category based on the researcher’s best approximation that fitted the task they were solving. The Dataset can somehow be considered reliable, data are not missing any rows or columns and since the dataset was collected from a public source Twitter, it can be further verified if needed, however due to the nature of the dataset itself, it can be also verified objectively by scanning through the data itself. The dataset is closely relevant to the task we’re solving. Cyberbullying and hate speech could be used synonymously.\n"
   ]
  },
  {
   "cell_type": "markdown",
   "id": "ed9ad4d6",
   "metadata": {},
   "source": [
    "### Objectives: \n",
    "\n",
    "In this project we will set some specific requirements and issues to address:\n",
    "•\tInvestigate whether the data fits the purpose of the study\n",
    "•\tIdentify baseline metrics to be evaluated against \n",
    "•\tInvestigate whether the data is clean for our implementation\n",
    "•\tPreprocess the data by cleaning the data, lemmatizing it \n",
    "•\tImplement 3 different machine learning models, logistic regression, naïve bayes and recurrent neural networks deep learning model\n",
    "•\tEvaluate the outcomes against the baseline benchmark\n",
    "\n",
    "Supervised and unsupervised machine learning models can contribute to make the internet world a better place. ML models can be trained and developed to identify hate speech in social media posts, and other online media content. This can help identify and tackle hateful content. It can also be used to flag content for further review by human who can in their part for example help train the model by classifying it or taking actions or can help inform the development of policies and interventions to address hate speech.\n"
   ]
  },
  {
   "cell_type": "markdown",
   "id": "e78ae5e6",
   "metadata": {},
   "source": [
    "### Evaluation methodology:\n",
    "\n",
    "There are a variety of evaluation metrics that can be used to evaluate the performance of a hate speech classification model. Some common metrics include:  \n",
    "•\tAccuracy: percentage of texts that are correctly classified by the model. It is a simple and widely used metric, but it can be misleading if the dataset is imbalanced (e.g. if there are significantly more non-hate speech texts than hate speech texts). \n",
    "•\tPrecision: This is the percentage of texts that are correctly classified as hate speech by the model. It is a measure of the model's ability to avoid false positives (i.e. classifying non-hate speech texts as hate speech). \n",
    "•\tRecall: This is the percentage of hate speech texts that are correctly classified by the model. It is a measure of the model's ability to avoid false negatives (i.e. classifying hate speech texts as non-hate speech). \n",
    "•\tF1 score: This is the harmonic mean of precision and recall. It is a balanced metric that considers both precision and recall. \n",
    "•\tConfusion matrix: This is a matrix that shows the number of true positives, true negatives, false positives, and false negatives produced by the model. It can be used to understand the model's strengths and weaknesses in more detail. \n",
    "•\tValidation loss and loss: metric used in RNN to determine loss % in each iteration of deep learning\n",
    "\n",
    "We will use a combination of metrics to evaluate the performance of a hate speech classification model, as different metrics can highlight different aspects of the model's performance. It is also important to consider the specific requirements of a model. For the RNN we will only use accuracy and loss as it’s not possible for me to generate data that can be evaluated against other metrics.\n",
    "\n"
   ]
  },
  {
   "cell_type": "code",
   "execution_count": 1,
   "id": "d7763f51",
   "metadata": {},
   "outputs": [],
   "source": [
    "import pandas as pd\n",
    "import numpy as np\n",
    "import matplotlib.pyplot as plt\n",
    "import re\n",
    "import string\n",
    "import nltk\n",
    "from nltk.corpus import stopwords\n",
    "from nltk.stem import WordNetLemmatizer\n",
    "from sklearn.model_selection import train_test_split\n",
    "from sklearn.metrics import classification_report, confusion_matrix\n",
    "from sklearn.preprocessing import LabelEncoder\n",
    "from mlxtend.plotting import plot_confusion_matrix\n",
    "from sklearn.feature_extraction.text import CountVectorizer, TfidfVectorizer\n",
    "from sklearn.feature_extraction.text import TfidfVectorizer\n",
    "from sklearn.naive_bayes import MultinomialNB\n",
    "from sklearn.pipeline import make_pipeline\n",
    "from sklearn.linear_model import LogisticRegression\n",
    "import tensorflow as tf\n",
    "from sklearn.preprocessing import OrdinalEncoder\n",
    "from tensorflow.keras.utils import to_categorical\n",
    "from collections import Counter\n",
    "\n",
    "\n",
    "\n",
    "\n",
    "\n",
    "\n",
    "\n",
    "\n",
    "\n",
    "pd.options.display.max_colwidth = 300 # to display full tweets as each tweet is of 280 chars"
   ]
  },
  {
   "cell_type": "code",
   "execution_count": 2,
   "id": "e14f8f37",
   "metadata": {
    "scrolled": false
   },
   "outputs": [
    {
     "data": {
      "text/html": [
       "<div>\n",
       "<style scoped>\n",
       "    .dataframe tbody tr th:only-of-type {\n",
       "        vertical-align: middle;\n",
       "    }\n",
       "\n",
       "    .dataframe tbody tr th {\n",
       "        vertical-align: top;\n",
       "    }\n",
       "\n",
       "    .dataframe thead th {\n",
       "        text-align: right;\n",
       "    }\n",
       "</style>\n",
       "<table border=\"1\" class=\"dataframe\">\n",
       "  <thead>\n",
       "    <tr style=\"text-align: right;\">\n",
       "      <th></th>\n",
       "      <th>tweet_text</th>\n",
       "      <th>cyberbullying_type</th>\n",
       "    </tr>\n",
       "  </thead>\n",
       "  <tbody>\n",
       "    <tr>\n",
       "      <th>0</th>\n",
       "      <td>In other words #katandandre, your food was crapilicious! #mkr</td>\n",
       "      <td>not_cyberbullying</td>\n",
       "    </tr>\n",
       "    <tr>\n",
       "      <th>1</th>\n",
       "      <td>Why is #aussietv so white? #MKR #theblock #ImACelebrityAU #today #sunrise #studio10 #Neighbours #WonderlandTen #etc</td>\n",
       "      <td>not_cyberbullying</td>\n",
       "    </tr>\n",
       "    <tr>\n",
       "      <th>2</th>\n",
       "      <td>@XochitlSuckkks a classy whore? Or more red velvet cupcakes?</td>\n",
       "      <td>not_cyberbullying</td>\n",
       "    </tr>\n",
       "    <tr>\n",
       "      <th>3</th>\n",
       "      <td>@Jason_Gio meh. :P  thanks for the heads up, but not too concerned about another angry dude on twitter.</td>\n",
       "      <td>not_cyberbullying</td>\n",
       "    </tr>\n",
       "    <tr>\n",
       "      <th>4</th>\n",
       "      <td>@RudhoeEnglish This is an ISIS account pretending to be a Kurdish account.  Like Islam, it is all lies.</td>\n",
       "      <td>not_cyberbullying</td>\n",
       "    </tr>\n",
       "  </tbody>\n",
       "</table>\n",
       "</div>"
      ],
      "text/plain": [
       "                                                                                                            tweet_text  \\\n",
       "0                                                        In other words #katandandre, your food was crapilicious! #mkr   \n",
       "1  Why is #aussietv so white? #MKR #theblock #ImACelebrityAU #today #sunrise #studio10 #Neighbours #WonderlandTen #etc   \n",
       "2                                                         @XochitlSuckkks a classy whore? Or more red velvet cupcakes?   \n",
       "3              @Jason_Gio meh. :P  thanks for the heads up, but not too concerned about another angry dude on twitter.   \n",
       "4              @RudhoeEnglish This is an ISIS account pretending to be a Kurdish account.  Like Islam, it is all lies.   \n",
       "\n",
       "  cyberbullying_type  \n",
       "0  not_cyberbullying  \n",
       "1  not_cyberbullying  \n",
       "2  not_cyberbullying  \n",
       "3  not_cyberbullying  \n",
       "4  not_cyberbullying  "
      ]
     },
     "execution_count": 2,
     "metadata": {},
     "output_type": "execute_result"
    }
   ],
   "source": [
    "df = pd.read_csv('hate_speech.csv')\n",
    "df.head()"
   ]
  },
  {
   "cell_type": "markdown",
   "id": "0d04263f",
   "metadata": {},
   "source": [
    "As we can see the dataset consist of two columns tweets and type of bullying we can now look into types \n",
    "of bullying in cyberbullying_type column in the next figure"
   ]
  },
  {
   "cell_type": "code",
   "execution_count": 3,
   "id": "235d8145",
   "metadata": {
    "scrolled": true
   },
   "outputs": [
    {
     "data": {
      "image/png": "[encoded data removed]",
      "text/plain": [
       "<Figure size 576x288 with 1 Axes>"
      ]
     },
     "metadata": {
      "needs_background": "light"
     },
     "output_type": "display_data"
    }
   ],
   "source": [
    "plt.figure(figsize=(8,4))\n",
    "plt.hist(df.cyberbullying_type, bins=20)\n",
    "plt.title(\"Tweets histogram\")\n",
    "plt.ylabel(\"Tweet numbers\")\n",
    "plt.xlabel(\"Types\")\n",
    "plt.show()"
   ]
  },
  {
   "cell_type": "code",
   "execution_count": 4,
   "id": "0cd43658",
   "metadata": {},
   "outputs": [
    {
     "data": {
      "text/plain": [
       "<AxesSubplot:ylabel='None'>"
      ]
     },
     "execution_count": 4,
     "metadata": {},
     "output_type": "execute_result"
    },
    {
     "data": {
      "image/png": "[encoded data removed]",
      "text/plain": [
       "<Figure size 432x288 with 1 Axes>"
      ]
     },
     "metadata": {},
     "output_type": "display_data"
    }
   ],
   "source": [
    "df.groupby('cyberbullying_type').size().plot(kind='pie')"
   ]
  },
  {
   "cell_type": "markdown",
   "id": "f6ccf988",
   "metadata": {},
   "source": [
    "We can see that the dataset is relatively balanced in terms of bullying types."
   ]
  },
  {
   "cell_type": "code",
   "execution_count": 5,
   "id": "1f7ea9f6",
   "metadata": {},
   "outputs": [
    {
     "data": {
      "text/plain": [
       "tweet_text            0\n",
       "cyberbullying_type    0\n",
       "dtype: int64"
      ]
     },
     "execution_count": 5,
     "metadata": {},
     "output_type": "execute_result"
    }
   ],
   "source": [
    "df.isnull().sum()"
   ]
  },
  {
   "cell_type": "markdown",
   "id": "eddd5407",
   "metadata": {},
   "source": [
    "No null values in the dataset which means that we don't have to normalize null values."
   ]
  },
  {
   "cell_type": "markdown",
   "id": "84f76f8e",
   "metadata": {},
   "source": [
    "We will use a label Encoder to target labels from 0-5 computers understand numbers."
   ]
  },
  {
   "cell_type": "code",
   "execution_count": 6,
   "id": "0c62a081",
   "metadata": {},
   "outputs": [],
   "source": [
    " \n",
    "# Creating a label Encoder.\n",
    "le = LabelEncoder()\n",
    " \n",
    "# Using .fit_transform function to fit label and the encoder returns encoded label in numbers from 0-5\n",
    "label = le.fit_transform(df['cyberbullying_type'])\n",
    "  \n",
    "# Appending the result to our dataFrame\n",
    "# with column name 'target'\n",
    "df[\"target\"] = label"
   ]
  },
  {
   "cell_type": "markdown",
   "id": "8d2ae900",
   "metadata": {},
   "source": [
    "We can take a breif look of how the tweets look from a 10 randomly selected tweets!"
   ]
  },
  {
   "cell_type": "code",
   "execution_count": 7,
   "id": "7f5d2304",
   "metadata": {
    "scrolled": true
   },
   "outputs": [
    {
     "data": {
      "text/plain": [
       "10                                                                                                          @Jord_Is_Dead http://t.co/UsQInYW5Gn\n",
       "11                                                                                              The Bully flushes on KD http://twitvid.com/A2TNP\n",
       "12                                                                                                                                   Ughhhh #MKR\n",
       "13    RT @Kurdsnews: Turkish state has killed 241 children in last 11 years http://t.co/JlvkE1epws  #news  ##GoogleÇeviriciTopluluğuKürtçeyideE…\n",
       "14                         Love that the best response to the hotcakes they managed to film was a non-committal \"meh\" from some adolescent. #MKR\n",
       "15                                                               @yasmimcaci @Bferrarii PAREM DE FAZER BULLYING COMIGO =( UHAHUAH BANDO DE PRETO\n",
       "16                                                                       @sarinhacoral @Victor_Maggi tadinhu de mim , sofrendo bulling viu MIMI'\n",
       "17                                                        @0xabad1dea @kelseytheodore2 twitter is basically the angry letters of our generation.\n",
       "18      Best pick up line? Hi, you're cute... ?: I love how people call James Potter is a bully. - mypatronusisyou: http://tumblr.com/xol3xl14zy\n",
       "19                                                                    Now I gotta walk to classss?! I officially hate the stupid bus system! -_-\n",
       "Name: tweet_text, dtype: object"
      ]
     },
     "execution_count": 7,
     "metadata": {},
     "output_type": "execute_result"
    }
   ],
   "source": [
    "\n",
    "df.iloc[10:20]['tweet_text']"
   ]
  },
  {
   "cell_type": "markdown",
   "id": "8df5e5c2",
   "metadata": {},
   "source": [
    "We can clearly see that the data is not clean at all and we will take few steps to cleen it\n",
    "\n",
    "- remove the users from the tweets, users can be recognized by @ character \n",
    "- remove non-letter characters\n",
    "- links and concurrent spaces\n",
    "- convert all letters to small letters"
   ]
  },
  {
   "cell_type": "code",
   "execution_count": 8,
   "id": "78a10bec",
   "metadata": {},
   "outputs": [],
   "source": [
    "\n",
    "def text_cleaner(tweet):\n",
    "    tweet = re.sub(r\"(@[A-Za-z0–9_]+)|[^\\w\\s]|#|http\\S+\", \"\", tweet) # removes twitter user, links, nonwords\n",
    "    tweet = re.sub(r\"\\W|\\d\", \" \", tweet) \n",
    "    tweet = re.sub(r\"[ ]{2,}\", \" \", tweet)  # removes occurances of more than one white space between words\n",
    "    return tweet\n",
    "    "
   ]
  },
  {
   "cell_type": "code",
   "execution_count": 9,
   "id": "e6bb4abe",
   "metadata": {},
   "outputs": [],
   "source": [
    "df[\"tweet_text\"]=df.tweet_text.apply(lambda x:text_cleaner(x))"
   ]
  },
  {
   "cell_type": "markdown",
   "id": "1a81d9d1",
   "metadata": {},
   "source": [
    "We can still see that there are some non ASCII characters e.g., \"GoogleÇeviriciTopluluğuKürtçeyid\" we can apply \n",
    "a lamada function that eliminates characters that are not in standard ASCII"
   ]
  },
  {
   "cell_type": "code",
   "execution_count": 10,
   "id": "11771210",
   "metadata": {},
   "outputs": [
    {
     "data": {
      "text/plain": [
       "'0123456789abcdefghijklmnopqrstuvwxyzABCDEFGHIJKLMNOPQRSTUVWXYZ!\"#$%&\\'()*+,-./:;<=>?@[\\\\]^_`{|}~ \\t\\n\\r\\x0b\\x0c'"
      ]
     },
     "execution_count": 10,
     "metadata": {},
     "output_type": "execute_result"
    }
   ],
   "source": [
    "string.printable"
   ]
  },
  {
   "cell_type": "markdown",
   "id": "06ffce18",
   "metadata": {},
   "source": [
    "We can apply a lambada function that excludes any character that is not in the above list \n",
    "at the same time we can convert all letters to small letters by passing by applying .lower() method when passing\n",
    "the tween to non_ascii_filter"
   ]
  },
  {
   "cell_type": "code",
   "execution_count": 11,
   "id": "273dc532",
   "metadata": {},
   "outputs": [],
   "source": [
    "def non_ascii_filter(tweet):\n",
    "    # excludes any character that is not in ASCII\n",
    "    return ''.join(filter(lambda x: x in set(string.printable), tweet)) \n"
   ]
  },
  {
   "cell_type": "code",
   "execution_count": 12,
   "id": "3b0b8355",
   "metadata": {},
   "outputs": [],
   "source": [
    "df[\"tweet_text\"]=df.tweet_text.apply(lambda x: non_ascii_filter(x.lower()))"
   ]
  },
  {
   "cell_type": "markdown",
   "id": "3f03a36e",
   "metadata": {},
   "source": [
    "In next cell we will lemmatize words and remove stop words at the same time in addition to tokenization"
   ]
  },
  {
   "cell_type": "code",
   "execution_count": 75,
   "id": "f1348fe1",
   "metadata": {},
   "outputs": [],
   "source": [
    "wordnet_lemmatizer = WordNetLemmatizer()\n",
    "stop_words = set(stopwords.words('english'))\n",
    "\n",
    "def remove_stop_words(text):\n",
    "    tokens = nltk.word_tokenize(text)\n",
    "#     filtered_tokens = ' '.join(wordnet_lemmatizer.lemmatize(token) for token in tokens if token not in stop_words)\n",
    "    filtered_tokens = [wordnet_lemmatizer.lemmatize(token) for token in tokens if token not in stop_words]\n",
    "    return filtered_tokens\n",
    "#This will create a new column called filtered tokens\n",
    "df['filtered_tokens'] = df['tweet_text'].apply(remove_stop_words)"
   ]
  },
  {
   "cell_type": "code",
   "execution_count": 14,
   "id": "5ebb01bd",
   "metadata": {},
   "outputs": [
    {
     "data": {
      "text/html": [
       "<div>\n",
       "<style scoped>\n",
       "    .dataframe tbody tr th:only-of-type {\n",
       "        vertical-align: middle;\n",
       "    }\n",
       "\n",
       "    .dataframe tbody tr th {\n",
       "        vertical-align: top;\n",
       "    }\n",
       "\n",
       "    .dataframe thead th {\n",
       "        text-align: right;\n",
       "    }\n",
       "</style>\n",
       "<table border=\"1\" class=\"dataframe\">\n",
       "  <thead>\n",
       "    <tr style=\"text-align: right;\">\n",
       "      <th></th>\n",
       "      <th>tweet_text</th>\n",
       "      <th>cyberbullying_type</th>\n",
       "      <th>target</th>\n",
       "      <th>filtered_tokens</th>\n",
       "    </tr>\n",
       "  </thead>\n",
       "  <tbody>\n",
       "    <tr>\n",
       "      <th>0</th>\n",
       "      <td>in other words katandandre your food was crapilicious mkr</td>\n",
       "      <td>not_cyberbullying</td>\n",
       "      <td>3</td>\n",
       "      <td>[word, katandandre, food, crapilicious, mkr]</td>\n",
       "    </tr>\n",
       "    <tr>\n",
       "      <th>1</th>\n",
       "      <td>why is aussietv so white mkr theblock imacelebrityau today sunrise studio neighbours wonderlandten etc</td>\n",
       "      <td>not_cyberbullying</td>\n",
       "      <td>3</td>\n",
       "      <td>[aussietv, white, mkr, theblock, imacelebrityau, today, sunrise, studio, neighbour, wonderlandten, etc]</td>\n",
       "    </tr>\n",
       "    <tr>\n",
       "      <th>2</th>\n",
       "      <td>a classy whore or more red velvet cupcakes</td>\n",
       "      <td>not_cyberbullying</td>\n",
       "      <td>3</td>\n",
       "      <td>[classy, whore, red, velvet, cupcake]</td>\n",
       "    </tr>\n",
       "    <tr>\n",
       "      <th>3</th>\n",
       "      <td>meh p thanks for the heads up but not too concerned about another angry dude on twitter</td>\n",
       "      <td>not_cyberbullying</td>\n",
       "      <td>3</td>\n",
       "      <td>[meh, p, thanks, head, concerned, another, angry, dude, twitter]</td>\n",
       "    </tr>\n",
       "    <tr>\n",
       "      <th>4</th>\n",
       "      <td>this is an isis account pretending to be a kurdish account like islam it is all lies</td>\n",
       "      <td>not_cyberbullying</td>\n",
       "      <td>3</td>\n",
       "      <td>[isi, account, pretending, kurdish, account, like, islam, lie]</td>\n",
       "    </tr>\n",
       "  </tbody>\n",
       "</table>\n",
       "</div>"
      ],
      "text/plain": [
       "                                                                                               tweet_text  \\\n",
       "0                                               in other words katandandre your food was crapilicious mkr   \n",
       "1  why is aussietv so white mkr theblock imacelebrityau today sunrise studio neighbours wonderlandten etc   \n",
       "2                                                              a classy whore or more red velvet cupcakes   \n",
       "3                 meh p thanks for the heads up but not too concerned about another angry dude on twitter   \n",
       "4                    this is an isis account pretending to be a kurdish account like islam it is all lies   \n",
       "\n",
       "  cyberbullying_type  target  \\\n",
       "0  not_cyberbullying       3   \n",
       "1  not_cyberbullying       3   \n",
       "2  not_cyberbullying       3   \n",
       "3  not_cyberbullying       3   \n",
       "4  not_cyberbullying       3   \n",
       "\n",
       "                                                                                           filtered_tokens  \n",
       "0                                                             [word, katandandre, food, crapilicious, mkr]  \n",
       "1  [aussietv, white, mkr, theblock, imacelebrityau, today, sunrise, studio, neighbour, wonderlandten, etc]  \n",
       "2                                                                    [classy, whore, red, velvet, cupcake]  \n",
       "3                                         [meh, p, thanks, head, concerned, another, angry, dude, twitter]  \n",
       "4                                           [isi, account, pretending, kurdish, account, like, islam, lie]  "
      ]
     },
     "execution_count": 14,
     "metadata": {},
     "output_type": "execute_result"
    }
   ],
   "source": [
    "df.head()"
   ]
  },
  {
   "cell_type": "code",
   "execution_count": 15,
   "id": "566b02de",
   "metadata": {},
   "outputs": [],
   "source": [
    "# We will create pd series for labels and targets\n",
    "X = df.filtered_tokens.values\n",
    "y = df.target.values"
   ]
  },
  {
   "cell_type": "code",
   "execution_count": 23,
   "id": "019d5333",
   "metadata": {},
   "outputs": [
    {
     "data": {
      "text/plain": [
       "'word katandandre food crapilicious mkr'"
      ]
     },
     "execution_count": 23,
     "metadata": {},
     "output_type": "execute_result"
    }
   ],
   "source": [
    "\" \".join((X[0]))"
   ]
  },
  {
   "cell_type": "markdown",
   "id": "bd024e42",
   "metadata": {},
   "source": [
    "## Logistic regression\n",
    "\n",
    "In the first step of our supervised learning, we will implement a supervised machine learning model \n",
    "using Count vector and logistic regression. \n",
    "\n"
   ]
  },
  {
   "cell_type": "code",
   "execution_count": 55,
   "id": "5259a628",
   "metadata": {},
   "outputs": [],
   "source": [
    "x_train, x_test, y_train, y_test = train_test_split( X, y, test_size=0.33, random_state=0)"
   ]
  },
  {
   "cell_type": "code",
   "execution_count": 56,
   "id": "253ab013",
   "metadata": {},
   "outputs": [],
   "source": [
    "# Vectorization using CountVectorizer\n",
    "vectorizer = CountVectorizer()\n",
    "vectorizer.fit(x_train)\n",
    "X_train = vectorizer.transform(x_train)\n",
    "X_test  = vectorizer.transform(x_test)"
   ]
  },
  {
   "cell_type": "markdown",
   "id": "4eba2283",
   "metadata": {},
   "source": [
    "After vectorizing the features, we can now feed that information in addition to the target\n",
    "to a Logistic Regression classifier that we imported earlier from Sklearn library"
   ]
  },
  {
   "cell_type": "code",
   "execution_count": 57,
   "id": "64e0f37a",
   "metadata": {},
   "outputs": [
    {
     "name": "stdout",
     "output_type": "stream",
     "text": [
      "Accuracy: 0.8220344367494758\n"
     ]
    }
   ],
   "source": [
    "\n",
    "classifier = LogisticRegression(max_iter=500)\n",
    "classifier.fit(X_train, y_train)\n",
    "score = classifier.score(X_test, y_test)\n",
    "\n",
    "print(\"Accuracy:\", score)"
   ]
  },
  {
   "cell_type": "markdown",
   "id": "f0f9c831",
   "metadata": {},
   "source": [
    "We have gotten accuracy of 82 however we need more information and perhaps a visualization \n",
    "\n",
    "so let's calculate f1 score, precision, recall and plot a confusion matrix "
   ]
  },
  {
   "cell_type": "code",
   "execution_count": 58,
   "id": "eafcc993",
   "metadata": {
    "scrolled": true
   },
   "outputs": [
    {
     "name": "stdout",
     "output_type": "stream",
     "text": [
      "              precision    recall  f1-score   support\n",
      "\n",
      "           0       0.97      0.97      0.97      2620\n",
      "           1       0.99      0.97      0.98      2671\n",
      "           2       0.91      0.82      0.86      2649\n",
      "           3       0.58      0.57      0.57      2622\n",
      "           4       0.57      0.65      0.61      2549\n",
      "           5       0.96      0.93      0.95      2628\n",
      "\n",
      "    accuracy                           0.82     15739\n",
      "   macro avg       0.83      0.82      0.82     15739\n",
      "weighted avg       0.83      0.82      0.83     15739\n",
      "\n",
      "[[2549    1    6   32   30    2]\n",
      " [   4 2600   14   18   32    3]\n",
      " [   6   10 2181  199  244    9]\n",
      " [  58   10   81 1492  913   68]\n",
      " [  17   10  109  733 1664   16]\n",
      " [   1    4   15  115   41 2452]]\n"
     ]
    }
   ],
   "source": [
    "# Make predictions on the test set\n",
    "y_pred = classifier.predict(X_test)\n",
    "\n",
    "# Convert the predictions to class labels\n",
    "# y_pred = y_pred.argmax(axis=1)\n",
    "\n",
    "# # Calculate the F1 score and confusion matrix\n",
    "report = classification_report(y_test, y_pred)\n",
    "confusion = confusion_matrix(y_test, y_pred)\n",
    "\n",
    "print(report)\n",
    "print(confusion)\n",
    "# len(test.cyberbullying_type)"
   ]
  },
  {
   "cell_type": "markdown",
   "id": "18196cdc",
   "metadata": {},
   "source": [
    "We can use a plot to better visualize the confusion matrix"
   ]
  },
  {
   "cell_type": "code",
   "execution_count": 59,
   "id": "989f417b",
   "metadata": {},
   "outputs": [],
   "source": [
    "\n",
    "#we iterate from 0 to 5 and append the returned string from cyberbullying_type column to classes list\n",
    "#that we will pass as an argument to plot_confusion_matrix\n",
    "\n",
    "classes = []\n",
    "for i in range (6):\n",
    "    class_name = df.loc[df['target'] == i, 'cyberbullying_type'].iloc[0]\n",
    "    classes.append(class_name)"
   ]
  },
  {
   "cell_type": "code",
   "execution_count": 60,
   "id": "5e5a015a",
   "metadata": {
    "scrolled": true
   },
   "outputs": [
    {
     "data": {
      "image/png": "[encoded data removed]",
      "text/plain": [
       "<Figure size 432x288 with 2 Axes>"
      ]
     },
     "metadata": {
      "needs_background": "light"
     },
     "output_type": "display_data"
    }
   ],
   "source": [
    "figure, ax = plot_confusion_matrix(conf_mat = confusion,\n",
    "                                   class_names = classes,\n",
    "                                   show_absolute = False,\n",
    "                                   show_normed = True,\n",
    "                                   colorbar = True)\n",
    "\n",
    "plt.show()"
   ]
  },
  {
   "cell_type": "code",
   "execution_count": 61,
   "id": "9476e309",
   "metadata": {},
   "outputs": [
    {
     "data": {
      "image/png": "[encoded data removed]",
      "text/plain": [
       "<Figure size 432x288 with 2 Axes>"
      ]
     },
     "metadata": {
      "needs_background": "light"
     },
     "output_type": "display_data"
    }
   ],
   "source": [
    "figure, ax = plot_confusion_matrix(conf_mat = confusion,class_names = classes,colorbar = True)\n",
    "plt.show()"
   ]
  },
  {
   "cell_type": "markdown",
   "id": "96ae02b1",
   "metadata": {},
   "source": [
    "## Multinomial Naїve Bayes\n",
    "\n",
    "In this section we will analayze the same data using Multinomia Naïve Bayes implementation."
   ]
  },
  {
   "cell_type": "code",
   "execution_count": 39,
   "id": "83ecc698",
   "metadata": {},
   "outputs": [
    {
     "name": "stderr",
     "output_type": "stream",
     "text": [
      "[nltk_data] Downloading package word2vec_sample to\n",
      "[nltk_data]     /Users/user/nltk_data...\n",
      "[nltk_data]   Package word2vec_sample is already up-to-date!\n"
     ]
    },
    {
     "data": {
      "text/plain": [
       "True"
      ]
     },
     "execution_count": 39,
     "metadata": {},
     "output_type": "execute_result"
    }
   ],
   "source": [
    "#first we download word2vector embedding corpus\n",
    "nltk.download('word2vec_sample')"
   ]
  },
  {
   "cell_type": "code",
   "execution_count": 50,
   "id": "503b3471",
   "metadata": {},
   "outputs": [],
   "source": [
    "x_train, x_test, y_train, y_test = train_test_split( X, y, test_size=0.33, random_state=0)"
   ]
  },
  {
   "cell_type": "code",
   "execution_count": 65,
   "id": "c5f95931",
   "metadata": {},
   "outputs": [
    {
     "data": {
      "text/plain": [
       "0"
      ]
     },
     "execution_count": 65,
     "metadata": {},
     "output_type": "execute_result"
    }
   ],
   "source": [
    "y_train[0]"
   ]
  },
  {
   "cell_type": "code",
   "execution_count": 64,
   "id": "f4355f41",
   "metadata": {},
   "outputs": [],
   "source": [
    "model = make_pipeline(TfidfVectorizer(), MultinomialNB())"
   ]
  },
  {
   "cell_type": "code",
   "execution_count": 67,
   "id": "03a26b60",
   "metadata": {},
   "outputs": [],
   "source": [
    "model.fit(x_train, y_train)\n",
    "y_pred = model.predict(x_test)"
   ]
  },
  {
   "cell_type": "code",
   "execution_count": 70,
   "id": "f0b41cf9",
   "metadata": {},
   "outputs": [
    {
     "name": "stdout",
     "output_type": "stream",
     "text": [
      "              precision    recall  f1-score   support\n",
      "\n",
      "           0       0.68      0.98      0.80      2620\n",
      "           1       0.83      0.93      0.87      2671\n",
      "           2       0.80      0.83      0.82      2649\n",
      "           3       0.68      0.35      0.47      2622\n",
      "           4       0.62      0.39      0.48      2549\n",
      "           5       0.79      0.96      0.87      2628\n",
      "\n",
      "    accuracy                           0.74     15739\n",
      "   macro avg       0.73      0.74      0.72     15739\n",
      "weighted avg       0.73      0.74      0.72     15739\n",
      "\n",
      "[[2577   11    7    5    5   15]\n",
      " [  90 2472    8    6   16   79]\n",
      " [  70   96 2198  118   88   79]\n",
      " [ 512  148  214  929  509  310]\n",
      " [ 521  247  287  288 1004  202]\n",
      " [  31   11   28   17    5 2536]]\n"
     ]
    }
   ],
   "source": [
    "report = classification_report(y_test, y_pred)\n",
    "confusion = confusion_matrix(y_test, y_pred)\n",
    "print(report)\n",
    "print(confusion)"
   ]
  },
  {
   "cell_type": "code",
   "execution_count": 71,
   "id": "ee151f32",
   "metadata": {},
   "outputs": [
    {
     "data": {
      "image/png": "[encoded data removed]",
      "text/plain": [
       "<Figure size 432x288 with 2 Axes>"
      ]
     },
     "metadata": {
      "needs_background": "light"
     },
     "output_type": "display_data"
    }
   ],
   "source": [
    "figure, ax = plot_confusion_matrix(conf_mat = confusion,\n",
    "                                   class_names = classes,\n",
    "                                   show_absolute = False,\n",
    "                                   show_normed = True,\n",
    "                                   colorbar = True)\n",
    "\n",
    "plt.show()"
   ]
  },
  {
   "cell_type": "code",
   "execution_count": 72,
   "id": "513846a9",
   "metadata": {},
   "outputs": [
    {
     "data": {
      "image/png": "[encoded data removed]",
      "text/plain": [
       "<Figure size 432x288 with 2 Axes>"
      ]
     },
     "metadata": {
      "needs_background": "light"
     },
     "output_type": "display_data"
    }
   ],
   "source": [
    "figure, ax = plot_confusion_matrix(conf_mat = confusion,class_names = classes,colorbar = True)\n",
    "plt.show()"
   ]
  },
  {
   "cell_type": "markdown",
   "id": "5ede8256",
   "metadata": {},
   "source": [
    "The results seem to be following a similar pattern however it's scored less accurate than the logistic \n",
    "regression in tweets that are not hate speech or categorized under other cyberbullying."
   ]
  },
  {
   "cell_type": "markdown",
   "id": "9ebb3d49",
   "metadata": {},
   "source": [
    "## Deep learning \n",
    "\n",
    "In the last section of our classification approach we will implement a classification using neural network \n",
    "using tensorflow \n",
    "\n",
    "Before we add our data to pipeline we need to put the tweet text words in a list so we will reuse a function\n",
    "we define earlier and reprocess the data accordingly "
   ]
  },
  {
   "cell_type": "code",
   "execution_count": 82,
   "id": "2ba3afa7",
   "metadata": {},
   "outputs": [],
   "source": [
    "x_train,x_test,y_train,y_test = train_test_split(df[['filtered_tokens']],df['target'])"
   ]
  },
  {
   "cell_type": "code",
   "execution_count": 83,
   "id": "6ea1af1a",
   "metadata": {},
   "outputs": [],
   "source": [
    "vocabulary = Counter() # it creats vocabulary list with word count\n",
    "def add_to_vocabulary(tweet):\n",
    "    global vocabulary\n",
    "    vocabulary.update(tweet)"
   ]
  },
  {
   "cell_type": "code",
   "execution_count": 85,
   "id": "5064888e",
   "metadata": {},
   "outputs": [
    {
     "data": {
      "text/plain": [
       "[('school', 16078),\n",
       " ('fuck', 10625),\n",
       " ('like', 10489),\n",
       " ('nigger', 9872),\n",
       " ('girl', 9703),\n",
       " ('joke', 9621),\n",
       " ('u', 9426),\n",
       " ('dumb', 9355),\n",
       " ('bully', 9312),\n",
       " ('high', 8951)]"
      ]
     },
     "execution_count": 85,
     "metadata": {},
     "output_type": "execute_result"
    }
   ],
   "source": [
    "x_train.filtered_tokens.apply(add_to_vocabulary)\n",
    "df.filtered_tokens.apply(add_to_vocabulary)\n",
    "vocabulary_size = len(vocabulary)\n",
    "vocabulary_size\n",
    "vocabulary.most_common(10)"
   ]
  },
  {
   "cell_type": "code",
   "execution_count": 86,
   "id": "49635874",
   "metadata": {},
   "outputs": [],
   "source": [
    "tokenizer = tf.keras.preprocessing.text.Tokenizer() # word tokenizer\n",
    "tokenizer.fit_on_texts(x_train.filtered_tokens)\n",
    "X_train = tokenizer.texts_to_sequences(x_train.filtered_tokens)\n",
    "X_test = tokenizer.texts_to_sequences(x_test.filtered_tokens)"
   ]
  },
  {
   "cell_type": "code",
   "execution_count": 88,
   "id": "4bcf415d",
   "metadata": {},
   "outputs": [
    {
     "data": {
      "text/plain": [
       "404"
      ]
     },
     "execution_count": 88,
     "metadata": {},
     "output_type": "execute_result"
    }
   ],
   "source": [
    "#this will calculate the max length of a tweet in order to create padding for the rest of vectors \n",
    "#in order to balance vectors to the max by filling them with zeroes.\n",
    "max_size = len(max(df.filtered_tokens,key=lambda x:len(x)))\n",
    "max_size"
   ]
  },
  {
   "cell_type": "code",
   "execution_count": 89,
   "id": "34d3853d",
   "metadata": {},
   "outputs": [],
   "source": [
    "X_train = tf.keras.utils.pad_sequences(X_train, maxlen=max_size, padding='post')"
   ]
  },
  {
   "cell_type": "code",
   "execution_count": 90,
   "id": "0a8a6681",
   "metadata": {},
   "outputs": [],
   "source": [
    "X_test = tf.keras.utils.pad_sequences(X_test, maxlen=max_size, padding='post')"
   ]
  },
  {
   "cell_type": "code",
   "execution_count": 91,
   "id": "6f9d2655",
   "metadata": {},
   "outputs": [],
   "source": [
    "# this will transform the scalar values of our targets that are numbers 0-5 to \n",
    "#categorical values that go along with the dimension of our tensorflow input\n",
    "enc = OrdinalEncoder()\n",
    "y_train,y_test = to_categorical(enc.fit_transform(X=y_train.to_frame()),num_classes=6),to_categorical(enc.fit_transform(X=y_test.to_frame()),num_classes=6)"
   ]
  },
  {
   "cell_type": "code",
   "execution_count": 99,
   "id": "c9198256",
   "metadata": {},
   "outputs": [],
   "source": [
    "#here we create and compile our deep learning model \n",
    "#we add multi layers starting by embedding and ending with compilation\n",
    "model = tf.keras.Sequential()\n",
    "model.add(tf.keras.layers.Embedding(vocabulary_size, 100, input_length=max_size))\n",
    "model.add(tf.keras.layers.Conv1D(filters=32, kernel_size=8, activation='relu'))\n",
    "model.add(tf.keras.layers.MaxPooling1D(pool_size=2))\n",
    "model.add(tf.keras.layers.Flatten())\n",
    "model.add(tf.keras.layers.Dense(10, activation='relu',kernel_regularizer=tf.keras.regularizers.L1L2(l1=1e-5, l2=1e-4)))\n",
    "model.add(tf.keras.layers.Dense(6, activation='softmax'))\n",
    "model.compile(loss='categorical_crossentropy', optimizer='adam', metrics=['accuracy'])"
   ]
  },
  {
   "cell_type": "code",
   "execution_count": null,
   "id": "91575864",
   "metadata": {},
   "outputs": [],
   "source": [
    "model = define_model(vocab_size,max_size)"
   ]
  },
  {
   "cell_type": "code",
   "execution_count": 100,
   "id": "5e60520f",
   "metadata": {},
   "outputs": [
    {
     "name": "stdout",
     "output_type": "stream",
     "text": [
      "Epoch 1/3\n",
      "895/895 [==============================] - 55s 60ms/step - loss: 0.6934 - accuracy: 0.6992 - val_loss: 0.4359 - val_accuracy: 0.8128\n",
      "Epoch 2/3\n",
      "895/895 [==============================] - 51s 57ms/step - loss: 0.3571 - accuracy: 0.8560 - val_loss: 0.4480 - val_accuracy: 0.8172\n",
      "Epoch 3/3\n",
      "895/895 [==============================] - 52s 58ms/step - loss: 0.2403 - accuracy: 0.9068 - val_loss: 0.4964 - val_accuracy: 0.8155\n"
     ]
    },
    {
     "data": {
      "text/plain": [
       "<keras.callbacks.History at 0x7fc528192d30>"
      ]
     },
     "execution_count": 100,
     "metadata": {},
     "output_type": "execute_result"
    }
   ],
   "source": [
    "model.fit(X_train, y_train, epochs=3, validation_split= 0.2)"
   ]
  },
  {
   "cell_type": "code",
   "execution_count": 101,
   "id": "2fc260ff",
   "metadata": {
    "scrolled": true
   },
   "outputs": [
    {
     "name": "stdout",
     "output_type": "stream",
     "text": [
      "373/373 [==============================] - 2s 6ms/step - loss: 0.5182 - accuracy: 0.8115\n"
     ]
    }
   ],
   "source": [
    "y_pred = model.evaluate(X_test, y_test)"
   ]
  },
  {
   "cell_type": "markdown",
   "id": "e9d971e7",
   "metadata": {},
   "source": [
    "### Baseline performance and models evaluation:\n",
    "\n",
    "By basing my outcomes against outcomes in the literature “Using Convolutional Neural Networks to Classify Hate-Speech”[6] \n",
    "The logistic regression model seems to be performing well as well as the naïve bays although the regression model performed much better\n",
    "In average they produce better values that baseline models\n",
    "There two categories that undeformed and it can be expected as hate speech sometimes can include multiple groups at one time. \n",
    "It was difficult to implement and assess the performance of the RNN model as the only metric available is accuracy and loss \n",
    "And loss from test data was quite high 50% \n"
   ]
  },
  {
   "cell_type": "markdown",
   "id": "39557821",
   "metadata": {},
   "source": [
    "### conclusion \n",
    "\n",
    "The effectiveness of hate speech classification models depends on a variety of factors, including the quality and diversity of the training data, the choice of model and evaluation metrics, and the specific requirements and constraints of the task.\n",
    "\n",
    "Machine learning models can be a useful tool for detecting and classifying hate speech, but they are not a panacea and should be used in combination with other approaches such as legal, social, and educational interventions.\n",
    "\n",
    "There is a trade-off between false positives (classifying non-hate speech texts as hate speech) and false negatives classifying hate speech texts as non-hate speech in hate speech classification. It is important to balance the need to accurately identify hate speech with the need to avoid wrongly censoring non-hate speech.\n",
    "\n",
    "\n"
   ]
  },
  {
   "cell_type": "markdown",
   "id": "f9108195",
   "metadata": {},
   "source": [
    "### references\n",
    "\n",
    "1 [The Internet’s history has just begun](https://duckduckgo.com)\n",
    "\n",
    "2 [Online hate increasing against minorities, says expert](https://www.ohchr.org/en/stories/2021/03/report-online-hate-increasing-against-minorities-says-expert)\n",
    "\n",
    "3 [Facebook Demographic Statistics: How Many People Use Facebook in 2022?](https://backlinko.com/facebook-users)\n",
    "\n",
    "4 [Deep Entity Classification: Abusive Account Detection for Online Social Networks](https://research.facebook.com/publications/deep-entity-classification-abusive-account-detection-for-online-social-networks/)\n",
    "\n",
    "5 https://www.kaggle.com/datasets/andrewmvd/cyberbullying-classification \n",
    "\n",
    "[SOSNet: A Graph Convolutional Network Approach to Fine-Grained Cyberbullying Detection]( https://ieeexplore.ieee.org/document/9378065)\n",
    "\n",
    "6 [Using Convolutional Neural Networks to Classify Hate-Speech](https://aclanthology.org/W17-3013.pdf)\n"
   ]
  },
  {
   "cell_type": "code",
   "execution_count": null,
   "id": "64a114ab",
   "metadata": {},
   "outputs": [],
   "source": []
  }
 ],
 "metadata": {
  "kernelspec": {
   "display_name": "Python 3",
   "language": "python",
   "name": "python3"
  },
  "language_info": {
   "codemirror_mode": {
    "name": "ipython",
    "version": 3
   },
   "file_extension": ".py",
   "mimetype": "text/x-python",
   "name": "python",
   "nbconvert_exporter": "python",
   "pygments_lexer": "ipython3",
   "version": "3.8.8"
  }
 },
 "nbformat": 4,
 "nbformat_minor": 5
}
