{
 "cells": [
  {
   "cell_type": "markdown",
   "id": "3d7fb5ac",
   "metadata": {},
   "source": [
    "# Natural Language processing: Hate speech classification"
   ]
  },
  {
   "cell_type": "code",
   "execution_count": 36,
   "id": "d7763f51",
   "metadata": {},
   "outputs": [],
   "source": [
    "import pandas as pd\n",
    "import numpy as np\n",
    "import matplotlib.pyplot as plt\n",
    "import re\n",
    "import string\n",
    "import nltk\n",
    "from nltk.corpus import stopwords\n",
    "from nltk.stem import WordNetLemmatizer\n",
    "from sklearn.model_selection import train_test_split\n",
    "from sklearn.metrics import classification_report, confusion_matrix\n",
    "from sklearn.preprocessing import LabelEncoder\n",
    "from mlxtend.plotting import plot_confusion_matrix\n",
    "from sklearn.feature_extraction.text import CountVectorizer, TfidfVectorizer\n",
    "from sklearn.feature_extraction.text import TfidfVectorizer\n",
    "from sklearn.naive_bayes import MultinomialNB\n",
    "from sklearn.pipeline import make_pipeline\n",
    "from sklearn.linear_model import LogisticRegression\n",
    "\n",
    "\n",
    "\n",
    "\n",
    "\n",
    "\n",
    "\n",
    "\n",
    "\n",
    "\n",
    "pd.options.display.max_colwidth = 300 # to display full tweets as each tweet is of 280 chars"
   ]
  },
  {
   "cell_type": "code",
   "execution_count": 7,
   "id": "e14f8f37",
   "metadata": {
    "scrolled": false
   },
   "outputs": [
    {
     "data": {
      "text/html": [
       "<div>\n",
       "<style scoped>\n",
       "    .dataframe tbody tr th:only-of-type {\n",
       "        vertical-align: middle;\n",
       "    }\n",
       "\n",
       "    .dataframe tbody tr th {\n",
       "        vertical-align: top;\n",
       "    }\n",
       "\n",
       "    .dataframe thead th {\n",
       "        text-align: right;\n",
       "    }\n",
       "</style>\n",
       "<table border=\"1\" class=\"dataframe\">\n",
       "  <thead>\n",
       "    <tr style=\"text-align: right;\">\n",
       "      <th></th>\n",
       "      <th>tweet_text</th>\n",
       "      <th>cyberbullying_type</th>\n",
       "    </tr>\n",
       "  </thead>\n",
       "  <tbody>\n",
       "    <tr>\n",
       "      <th>0</th>\n",
       "      <td>In other words #katandandre, your food was crapilicious! #mkr</td>\n",
       "      <td>not_cyberbullying</td>\n",
       "    </tr>\n",
       "    <tr>\n",
       "      <th>1</th>\n",
       "      <td>Why is #aussietv so white? #MKR #theblock #ImACelebrityAU #today #sunrise #studio10 #Neighbours #WonderlandTen #etc</td>\n",
       "      <td>not_cyberbullying</td>\n",
       "    </tr>\n",
       "    <tr>\n",
       "      <th>2</th>\n",
       "      <td>@XochitlSuckkks a classy whore? Or more red velvet cupcakes?</td>\n",
       "      <td>not_cyberbullying</td>\n",
       "    </tr>\n",
       "    <tr>\n",
       "      <th>3</th>\n",
       "      <td>@Jason_Gio meh. :P  thanks for the heads up, but not too concerned about another angry dude on twitter.</td>\n",
       "      <td>not_cyberbullying</td>\n",
       "    </tr>\n",
       "    <tr>\n",
       "      <th>4</th>\n",
       "      <td>@RudhoeEnglish This is an ISIS account pretending to be a Kurdish account.  Like Islam, it is all lies.</td>\n",
       "      <td>not_cyberbullying</td>\n",
       "    </tr>\n",
       "  </tbody>\n",
       "</table>\n",
       "</div>"
      ],
      "text/plain": [
       "                                                                                                            tweet_text  \\\n",
       "0                                                        In other words #katandandre, your food was crapilicious! #mkr   \n",
       "1  Why is #aussietv so white? #MKR #theblock #ImACelebrityAU #today #sunrise #studio10 #Neighbours #WonderlandTen #etc   \n",
       "2                                                         @XochitlSuckkks a classy whore? Or more red velvet cupcakes?   \n",
       "3              @Jason_Gio meh. :P  thanks for the heads up, but not too concerned about another angry dude on twitter.   \n",
       "4              @RudhoeEnglish This is an ISIS account pretending to be a Kurdish account.  Like Islam, it is all lies.   \n",
       "\n",
       "  cyberbullying_type  \n",
       "0  not_cyberbullying  \n",
       "1  not_cyberbullying  \n",
       "2  not_cyberbullying  \n",
       "3  not_cyberbullying  \n",
       "4  not_cyberbullying  "
      ]
     },
     "execution_count": 7,
     "metadata": {},
     "output_type": "execute_result"
    }
   ],
   "source": [
    "df = pd.read_csv('cyberbullying_tweets.csv')\n",
    "df.head()"
   ]
  },
  {
   "cell_type": "markdown",
   "id": "0d04263f",
   "metadata": {},
   "source": [
    "As we can see the dataset consist of two columns tweets and type of bullying we can now look into types \n",
    "of bullying in cyberbullying_type column"
   ]
  },
  {
   "cell_type": "code",
   "execution_count": 8,
   "id": "235d8145",
   "metadata": {},
   "outputs": [
    {
     "data": {
      "image/png": "[encoded data removed]",
      "text/plain": [
       "<Figure size 576x288 with 1 Axes>"
      ]
     },
     "metadata": {
      "needs_background": "light"
     },
     "output_type": "display_data"
    }
   ],
   "source": [
    "plt.figure(figsize=(8,4))\n",
    "plt.hist(df.cyberbullying_type, bins=20)\n",
    "plt.title(\"Tweets histogram\")\n",
    "plt.ylabel(\"Tweet numbers\")\n",
    "plt.xlabel(\"Types\")\n",
    "plt.show()"
   ]
  },
  {
   "cell_type": "markdown",
   "id": "f6ccf988",
   "metadata": {},
   "source": [
    "We can see that the dataset is relatively even in terms of bullying type."
   ]
  },
  {
   "cell_type": "code",
   "execution_count": 9,
   "id": "1f7ea9f6",
   "metadata": {},
   "outputs": [
    {
     "data": {
      "text/plain": [
       "tweet_text            0\n",
       "cyberbullying_type    0\n",
       "dtype: int64"
      ]
     },
     "execution_count": 9,
     "metadata": {},
     "output_type": "execute_result"
    }
   ],
   "source": [
    "df.isnull().sum()"
   ]
  },
  {
   "cell_type": "markdown",
   "id": "eddd5407",
   "metadata": {},
   "source": [
    "No null values in the dataset which means that we don't have to normalize null values."
   ]
  },
  {
   "cell_type": "code",
   "execution_count": 12,
   "id": "0c62a081",
   "metadata": {},
   "outputs": [],
   "source": [
    " \n",
    "# Creating a label Encoder.\n",
    "le = LabelEncoder()\n",
    " \n",
    "# Using .fit_transform function to fit label and the encoder returns encoded label in numbers from 0-5\n",
    "label = le.fit_transform(df['cyberbullying_type'])\n",
    "  \n",
    "# Appending the array to our dataFrame\n",
    "# with column name 'Purchased'\n",
    "df[\"target\"] = label"
   ]
  },
  {
   "cell_type": "code",
   "execution_count": 13,
   "id": "7f5d2304",
   "metadata": {},
   "outputs": [
    {
     "data": {
      "text/plain": [
       "10                                                                                                          @Jord_Is_Dead http://t.co/UsQInYW5Gn\n",
       "11                                                                                              The Bully flushes on KD http://twitvid.com/A2TNP\n",
       "12                                                                                                                                   Ughhhh #MKR\n",
       "13    RT @Kurdsnews: Turkish state has killed 241 children in last 11 years http://t.co/JlvkE1epws  #news  ##GoogleÇeviriciTopluluğuKürtçeyideE…\n",
       "14                         Love that the best response to the hotcakes they managed to film was a non-committal \"meh\" from some adolescent. #MKR\n",
       "15                                                               @yasmimcaci @Bferrarii PAREM DE FAZER BULLYING COMIGO =( UHAHUAH BANDO DE PRETO\n",
       "16                                                                       @sarinhacoral @Victor_Maggi tadinhu de mim , sofrendo bulling viu MIMI'\n",
       "17                                                        @0xabad1dea @kelseytheodore2 twitter is basically the angry letters of our generation.\n",
       "18      Best pick up line? Hi, you're cute... ?: I love how people call James Potter is a bully. - mypatronusisyou: http://tumblr.com/xol3xl14zy\n",
       "19                                                                    Now I gotta walk to classss?! I officially hate the stupid bus system! -_-\n",
       "Name: tweet_text, dtype: object"
      ]
     },
     "execution_count": 13,
     "metadata": {},
     "output_type": "execute_result"
    }
   ],
   "source": [
    "df.iloc[10:20]['tweet_text']"
   ]
  },
  {
   "cell_type": "code",
   "execution_count": 14,
   "id": "78a10bec",
   "metadata": {},
   "outputs": [],
   "source": [
    "\n",
    "def text_cleaner(tweet):\n",
    "    tweet = re.sub(r\"(@[A-Za-z0–9_]+)|[^\\w\\s]|#|http\\S+\", \"\", tweet) # removes twitter user, links, nonwords\n",
    "    tweet = re.sub(r\"\\W|\\d\", \" \", tweet) \n",
    "    tweet = re.sub(r\"[ ]{2,}\", \" \", tweet)  # removes occurances of more than one white space between words\n",
    "    return tweet\n",
    "    "
   ]
  },
  {
   "cell_type": "code",
   "execution_count": 15,
   "id": "e6bb4abe",
   "metadata": {},
   "outputs": [],
   "source": [
    "df[\"tweet_text\"]=df.tweet_text.apply(lambda x:text_cleaner(x))"
   ]
  },
  {
   "cell_type": "code",
   "execution_count": 16,
   "id": "fff569d9",
   "metadata": {},
   "outputs": [
    {
     "data": {
      "text/plain": [
       "10                                                                                                                    \n",
       "11                                                                                            The Bully flushes on KD \n",
       "12                                                                                                          Ughhhh MKR\n",
       "13                          RT Turkish state has killed children in last years news GoogleÇeviriciTopluluğuKürtçeyideE\n",
       "14    Love that the best response to the hotcakes they managed to film was a noncommittal meh from some adolescent MKR\n",
       "15                                                               PAREM DE FAZER BULLYING COMIGO UHAHUAH BANDO DE PRETO\n",
       "16                                                                            tadinhu de mim sofrendo bulling viu MIMI\n",
       "17                                                        dea twitter is basically the angry letters of our generation\n",
       "18                     Best pick up line Hi youre cute I love how people call James Potter is a bully mypatronusisyou \n",
       "19                                               Now I gotta walk to classss I officially hate the stupid bus system _\n",
       "Name: tweet_text, dtype: object"
      ]
     },
     "execution_count": 16,
     "metadata": {},
     "output_type": "execute_result"
    }
   ],
   "source": [
    "df.iloc[10:20]['tweet_text']"
   ]
  },
  {
   "cell_type": "markdown",
   "id": "1a81d9d1",
   "metadata": {},
   "source": [
    "We can still see that there are some non ASCII characters e.g., \"GoogleÇeviriciTopluluğuKürtçeyid\" we can apply \n",
    "a lamada function that eliminates characters that are not in standard ASCII"
   ]
  },
  {
   "cell_type": "code",
   "execution_count": null,
   "id": "11771210",
   "metadata": {},
   "outputs": [],
   "source": [
    "string.printable"
   ]
  },
  {
   "cell_type": "markdown",
   "id": "06ffce18",
   "metadata": {},
   "source": [
    "We can apply a lambada function that excludes any character that is not in the above list \n",
    "at the same time we can convert all letters to small letters by passing by applying .lower() method when passing\n",
    "the tween to non_ascii_filter"
   ]
  },
  {
   "cell_type": "code",
   "execution_count": 17,
   "id": "273dc532",
   "metadata": {},
   "outputs": [],
   "source": [
    "def non_ascii_filter(tweet):\n",
    "    # excludes any character that is not in ASCII\n",
    "    return ''.join(filter(lambda x: x in set(string.printable), tweet)) \n"
   ]
  },
  {
   "cell_type": "code",
   "execution_count": 18,
   "id": "3b0b8355",
   "metadata": {},
   "outputs": [],
   "source": [
    "df[\"tweet_text\"]=df.tweet_text.apply(lambda x: non_ascii_filter(x.lower()))"
   ]
  },
  {
   "cell_type": "markdown",
   "id": "3f03a36e",
   "metadata": {},
   "source": [
    "In next cell we will lemmatize words and remove stop words at the same time"
   ]
  },
  {
   "cell_type": "code",
   "execution_count": 19,
   "id": "f1348fe1",
   "metadata": {},
   "outputs": [],
   "source": [
    "wordnet_lemmatizer = WordNetLemmatizer()\n",
    "stop_words = set(stopwords.words('english'))\n",
    "\n",
    "def remove_stop_words(text):\n",
    "    tokens = nltk.word_tokenize(text)\n",
    "    filtered_tokens = ' '.join(wordnet_lemmatizer.lemmatize(token) for token in tokens if token not in stop_words)\n",
    "    return filtered_tokens\n",
    "\n",
    "df['filtered_tokens'] = df['tweet_text'].apply(remove_stop_words)"
   ]
  },
  {
   "cell_type": "code",
   "execution_count": 20,
   "id": "1f59cfc3",
   "metadata": {},
   "outputs": [],
   "source": [
    "# df[\"cyberbullying_type\"] = (df.cyberbullying_type == 'not_cyberbullying').astype(int)"
   ]
  },
  {
   "cell_type": "code",
   "execution_count": 22,
   "id": "566b02de",
   "metadata": {},
   "outputs": [],
   "source": [
    "# We will create pd series for labels and targets\n",
    "X = df.filtered_tokens.values\n",
    "y = df.target.values"
   ]
  },
  {
   "cell_type": "code",
   "execution_count": 23,
   "id": "5259a628",
   "metadata": {},
   "outputs": [],
   "source": [
    "X_train, X_test, y_train, y_test = train_test_split( X, y, test_size=0.33, random_state=0)"
   ]
  },
  {
   "cell_type": "code",
   "execution_count": null,
   "id": "eafcc993",
   "metadata": {},
   "outputs": [],
   "source": [
    "\n",
    "\n",
    "\n",
    "# Make predictions on the test set\n",
    "y_pred = model.predict(test_data)\n",
    "\n",
    "# Convert the predictions to class labels\n",
    "y_pred = y_pred.argmax(axis=1)\n",
    "\n",
    "# # Calculate the F1 score and confusion matrix\n",
    "report = classification_report(test.target, y_pred)\n",
    "# confusion = confusion_matrix(test.cyberbullying_type, y_pred)\n",
    "\n",
    "print(report)\n",
    "print(confusion)\n",
    "# len(test.cyberbullying_type)"
   ]
  },
  {
   "cell_type": "code",
   "execution_count": 38,
   "id": "253ab013",
   "metadata": {},
   "outputs": [],
   "source": [
    "# Vectorization using CountVectorizer\n",
    "vectorizer = CountVectorizer()\n",
    "vectorizer.fit(X_train)\n",
    "X_train = vectorizer.transform(X_train)\n",
    "X_test  = vectorizer.transform(X_test)"
   ]
  },
  {
   "cell_type": "code",
   "execution_count": 39,
   "id": "64e0f37a",
   "metadata": {},
   "outputs": [
    {
     "name": "stdout",
     "output_type": "stream",
     "text": [
      "Accuracy: 0.8220344367494758\n"
     ]
    }
   ],
   "source": [
    "classifier = LogisticRegression(max_iter=500)\n",
    "classifier.fit(X_train, y_train)\n",
    "score = classifier.score(X_test, y_test)\n",
    "\n",
    "print(\"Accuracy:\", score)"
   ]
  },
  {
   "cell_type": "code",
   "execution_count": 40,
   "id": "27e411a8",
   "metadata": {},
   "outputs": [],
   "source": [
    "y_pred = classifier.predict(X_test)"
   ]
  },
  {
   "cell_type": "code",
   "execution_count": 41,
   "id": "4cb17384",
   "metadata": {},
   "outputs": [
    {
     "name": "stdout",
     "output_type": "stream",
     "text": [
      "              precision    recall  f1-score   support\n",
      "\n",
      "           0       0.97      0.97      0.97      2620\n",
      "           1       0.99      0.97      0.98      2671\n",
      "           2       0.91      0.82      0.86      2649\n",
      "           3       0.58      0.57      0.57      2622\n",
      "           4       0.57      0.65      0.61      2549\n",
      "           5       0.96      0.93      0.95      2628\n",
      "\n",
      "    accuracy                           0.82     15739\n",
      "   macro avg       0.83      0.82      0.82     15739\n",
      "weighted avg       0.83      0.82      0.83     15739\n",
      "\n",
      "[[2549    1    6   32   30    2]\n",
      " [   4 2600   14   18   32    3]\n",
      " [   6   10 2181  199  244    9]\n",
      " [  58   10   81 1492  913   68]\n",
      " [  17   10  109  733 1664   16]\n",
      " [   1    4   15  115   41 2452]]\n"
     ]
    }
   ],
   "source": [
    "# Convert the predictions to class labels\n",
    "\n",
    "# Convert the predictions to class labels\n",
    "# y_pred = y_pred.argmax(axis=1)\n",
    "# # Calculate the F1 score and confusion matrix\n",
    "report = classification_report(y_test, y_pred)\n",
    "confusion = confusion_matrix(y_test, y_pred)\n",
    "\n",
    "print(report)\n",
    "print(confusion)"
   ]
  },
  {
   "cell_type": "code",
   "execution_count": 32,
   "id": "989f417b",
   "metadata": {},
   "outputs": [],
   "source": [
    "classes = []\n",
    "for i in range (6):\n",
    "    class_name = df.loc[df['target'] == i, 'cyberbullying_type'].iloc[0]\n",
    "    classes.append(class_name)"
   ]
  },
  {
   "cell_type": "code",
   "execution_count": 42,
   "id": "5e5a015a",
   "metadata": {
    "scrolled": true
   },
   "outputs": [
    {
     "data": {
      "image/png": "[encoded data removed]",
      "text/plain": [
       "<Figure size 432x288 with 2 Axes>"
      ]
     },
     "metadata": {
      "needs_background": "light"
     },
     "output_type": "display_data"
    }
   ],
   "source": [
    "\n",
    "figure, ax = plot_confusion_matrix(conf_mat = confusion,\n",
    "                                   class_names = classes,\n",
    "                                   show_absolute = False,\n",
    "                                   show_normed = True,\n",
    "\n",
    "                                   colorbar = True)\n",
    "\n",
    "plt.show()"
   ]
  },
  {
   "cell_type": "code",
   "execution_count": 3,
   "id": "83ecc698",
   "metadata": {},
   "outputs": [
    {
     "name": "stderr",
     "output_type": "stream",
     "text": [
      "[nltk_data] Downloading package word2vec_sample to\n",
      "[nltk_data]     /Users/user/nltk_data...\n",
      "[nltk_data]   Unzipping models/word2vec_sample.zip.\n"
     ]
    },
    {
     "data": {
      "text/plain": [
       "True"
      ]
     },
     "execution_count": 3,
     "metadata": {},
     "output_type": "execute_result"
    }
   ],
   "source": [
    "nltk.download('word2vec_sample')"
   ]
  },
  {
   "cell_type": "code",
   "execution_count": 6,
   "id": "f4355f41",
   "metadata": {},
   "outputs": [],
   "source": [
    "model = make_pipeline(TfidfVectorizer(), MultinomialNB())"
   ]
  },
  {
   "cell_type": "code",
   "execution_count": 30,
   "id": "03a26b60",
   "metadata": {},
   "outputs": [],
   "source": [
    "model.fit(X_train, y_train)\n",
    "# labels = model.predict(y_test)\n",
    "y_pred = model.predict(X_test)"
   ]
  },
  {
   "cell_type": "code",
   "execution_count": 43,
   "id": "87a3d476",
   "metadata": {},
   "outputs": [
    {
     "name": "stdout",
     "output_type": "stream",
     "text": [
      "Tensorflow/Keras: 2.11.0\n",
      "pandas: 1.3.3\n",
      "numpy: 1.21.0\n",
      "sklearn: 1.2.0\n",
      "plotly: 5.3.1\n"
     ]
    }
   ],
   "source": [
    "from tensorflow import keras # for building Neural Networks\n",
    "print('Tensorflow/Keras: %s' % keras.__version__) # print version\n",
    "from keras.models import Sequential # for creating a linear stack of layers for our Neural Network\n",
    "from keras import Input # for instantiating a keras tensor\n",
    "from keras.layers import Bidirectional, LSTM, RepeatVector, Dense, TimeDistributed # for creating layers inside the Neural Network\n",
    "\n",
    "# Data manipulation\n",
    "import pandas as pd # for data manipulation\n",
    "print('pandas: %s' % pd.__version__) # print version\n",
    "import numpy as np # for data manipulation\n",
    "print('numpy: %s' % np.__version__) # print version\n",
    "\n",
    "# Sklearn\n",
    "import sklearn\n",
    "print('sklearn: %s' % sklearn.__version__) # print version\n",
    "from sklearn.preprocessing import MinMaxScaler # for feature scaling\n",
    "\n",
    "# Visualization\n",
    "import plotly \n",
    "import plotly.express as px\n",
    "import plotly.graph_objects as go\n",
    "print('plotly: %s' % plotly.__version__) # print version"
   ]
  },
  {
   "cell_type": "code",
   "execution_count": null,
   "id": "49635874",
   "metadata": {},
   "outputs": [],
   "source": []
  }
 ],
 "metadata": {
  "kernelspec": {
   "display_name": "Python 3",
   "language": "python",
   "name": "python3"
  },
  "language_info": {
   "codemirror_mode": {
    "name": "ipython",
    "version": 3
   },
   "file_extension": ".py",
   "mimetype": "text/x-python",
   "name": "python",
   "nbconvert_exporter": "python",
   "pygments_lexer": "ipython3",
   "version": "3.8.8"
  }
 },
 "nbformat": 4,
 "nbformat_minor": 5
}
